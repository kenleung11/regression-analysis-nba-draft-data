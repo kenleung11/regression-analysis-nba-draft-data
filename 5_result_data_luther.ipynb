{
 "cells": [
  {
   "cell_type": "markdown",
   "metadata": {
    "collapsed": true
   },
   "source": [
    "# Project Luther\n",
    "\n",
    "Kenny Leung - kenleung11@gmail.com\n",
    "\n",
    "Part 5/8 - Combining and cleaning data obtained\n",
    "\n",
    "This notebook documents the process of combining and cleaning the data scraped previously and obtaining a final dataset to be used in the regression model. "
   ]
  },
  {
   "cell_type": "code",
   "execution_count": 113,
   "metadata": {
    "collapsed": true
   },
   "outputs": [],
   "source": [
    "import numpy as np\n",
    "import pandas as pd\n",
    "import seaborn as sns\n",
    "import matplotlib.pyplot as plt\n",
    "import matplotlib.style as style\n",
    "\n",
    "%matplotlib inline"
   ]
  },
  {
   "cell_type": "code",
   "execution_count": 114,
   "metadata": {
    "collapsed": true
   },
   "outputs": [],
   "source": [
    "# read in all the csv files and create dataframes with pandas\n",
    "college_df = pd.read_csv('college_data.csv',index_col=0)\n",
    "draft_df = pd.read_csv('draft_data.csv',index_col=0)\n",
    "player_df = pd.read_csv('player_raw.csv',index_col=0)\n",
    "rookie_df = pd.read_csv('rookie_raw.csv', index_col=0)\n",
    "rookie_advanced_df = pd.read_csv('rookie_advanced_raw.csv', index_col=0)"
   ]
  },
  {
   "cell_type": "code",
   "execution_count": 115,
   "metadata": {
    "collapsed": true
   },
   "outputs": [],
   "source": [
    "# filter out draft data before 2003 since college data is only available from 2003, remove other columns\n",
    "draft_df = draft_df[draft_df['Draft_Yr'] > 2002]\n",
    "draft_df = draft_df.loc[:,['Player','College','BPM']]"
   ]
  },
  {
   "cell_type": "code",
   "execution_count": 116,
   "metadata": {
    "collapsed": true
   },
   "outputs": [],
   "source": [
    "# merge dataframes on Player\n",
    "result_df = player_df.merge(college_df, on='Player', how='left')\n",
    "result_df = result_df.merge(draft_df, on='Player', how='left')\n",
    "#result_df = result_df.merge(rookie_df, on='Player', how='left')\n",
    "result = result_df.merge(rookie_advanced_df, on='Player', how='left')"
   ]
  },
  {
   "cell_type": "code",
   "execution_count": 117,
   "metadata": {},
   "outputs": [
    {
     "data": {
      "text/plain": [
       "(226, 55)"
      ]
     },
     "execution_count": 117,
     "metadata": {},
     "output_type": "execute_result"
    }
   ],
   "source": [
    "# drafted players who did not play college\n",
    "no_college = result[np.isnan(result['Yrs'])]\n",
    "no_college.shape"
   ]
  },
  {
   "cell_type": "code",
   "execution_count": 118,
   "metadata": {
    "scrolled": true
   },
   "outputs": [
    {
     "data": {
      "text/plain": [
       "(96, 55)"
      ]
     },
     "execution_count": 118,
     "metadata": {},
     "output_type": "execute_result"
    }
   ],
   "source": [
    "# drafted players who did not play in the NBA\n",
    "no_nba = result[np.isnan(result['G'])]\n",
    "no_nba.shape"
   ]
  },
  {
   "cell_type": "code",
   "execution_count": 119,
   "metadata": {
    "collapsed": true
   },
   "outputs": [],
   "source": [
    "result = result[np.isfinite(result['Yrs'])]\n",
    "result = result[np.isfinite(result['G'])]\n",
    "result = result[np.isfinite(result['BPM_x'])]\n",
    "result = result[np.isfinite(result['BPM_y'])]"
   ]
  },
  {
   "cell_type": "code",
   "execution_count": 120,
   "metadata": {},
   "outputs": [
    {
     "data": {
      "text/plain": [
       "(544, 55)"
      ]
     },
     "execution_count": 120,
     "metadata": {},
     "output_type": "execute_result"
    }
   ],
   "source": [
    "result.shape"
   ]
  },
  {
   "cell_type": "code",
   "execution_count": 121,
   "metadata": {
    "scrolled": true
   },
   "outputs": [
    {
     "name": "stdout",
     "output_type": "stream",
     "text": [
      "Rookie Year BPM mean:  -3.4297794117647062\n",
      "Rookie Year BPM std:  3.7876453162209676\n",
      "Rookie Year BPM max:  Demetrius Jackson 6.3\n",
      "Rookie Year BPM min:  Ben Bentil -26.9\n"
     ]
    }
   ],
   "source": [
    "print('Rookie Year BPM mean: ',result['BPM_y'].mean())\n",
    "print('Rookie Year BPM std: ',result['BPM_y'].std())\n",
    "print('Rookie Year BPM max: ',result.loc[result['BPM_y'].idxmax(axis=1)]['Player'],result['BPM_y'].max())\n",
    "print('Rookie Year BPM min: ',result.loc[result['BPM_y'].idxmin(axis=1)]['Player'],result['BPM_y'].min())"
   ]
  },
  {
   "cell_type": "code",
   "execution_count": 122,
   "metadata": {},
   "outputs": [
    {
     "name": "stdout",
     "output_type": "stream",
     "text": [
      "Career Average BPM mean:  -2.5231098430813095\n",
      "Career Average BPM std:  4.34622753012674\n",
      "Career Average BPM max:  LeBron James 9.1\n",
      "Career Average BPM min:  Mile Ilic -53.6\n"
     ]
    }
   ],
   "source": [
    "print('Career Average BPM mean: ',draft_df['BPM'].mean())\n",
    "print('Career Average BPM std: ',draft_df['BPM'].std())\n",
    "print('Career Average BPM max: ',draft_df.loc[draft_df['BPM'].idxmax(axis=1)]['Player'],draft_df['BPM'].max())\n",
    "print('Career Average BPM min: ',draft_df.loc[draft_df['BPM'].idxmin(axis=1)]['Player'],draft_df['BPM'].min())"
   ]
  },
  {
   "cell_type": "code",
   "execution_count": 133,
   "metadata": {
    "scrolled": false
   },
   "outputs": [
    {
     "data": {
      "text/plain": [
       "(-20, 10)"
      ]
     },
     "execution_count": 133,
     "metadata": {},
     "output_type": "execute_result"
    },
    {
     "data": {
      "image/png": "[encoded data removed]",
      "text/plain": [
       "<matplotlib.figure.Figure at 0x10d6e5b38>"
      ]
     },
     "metadata": {},
     "output_type": "display_data"
    }
   ],
   "source": [
    "style.use('fivethirtyeight')\n",
    "\n",
    "fig, ax = plt.subplots(figsize=(10,6))\n",
    "plt.tick_params(axis = 'both', which = 'major', labelsize = 18)\n",
    "\n",
    "sns.distplot(result['BPM_y'], ax=ax, bins=60)\n",
    "sns.distplot(draft_df['BPM'], ax=ax, bins=120)\n",
    "plt.title('Distribution of rookie year and career average BPMs in the NBA\\n')\n",
    "plt.xlabel('BPM')\n",
    "plt.legend(['Rookie','Career'],fontsize=18)\n",
    "ax.set_xlim(-20, 10)"
   ]
  },
  {
   "cell_type": "markdown",
   "metadata": {},
   "source": [
    "# Creating dummy variables for the College column\n",
    "\n",
    "There are certain colleges in NCAA basketball that produce a larger majority of good NBA players. Here, I grouped the drafted players by their college teams and looked at the top 10 colleges that contributed to the highest rookie year BPM. However, I only looked at colleges that produced more than 5 drafted NBA players in my timeframe. I then created a new college column, and changed the college value to \"Bad\" if the player did not attend one of the top 10 colleges. I then used this column to get dummy variables using pandas get_dummies."
   ]
  },
  {
   "cell_type": "code",
   "execution_count": 51,
   "metadata": {},
   "outputs": [
    {
     "data": {
      "text/plain": [
       "Index(['Player', 'Birthday', 'Height_ft', 'Height_in', 'Weight', 'Yrs', 'GP',\n",
       "       'MPG', 'FGM', 'FGA', 'FG_Perc', '3PM', '3PA', '3P_Perc', 'FTM', 'FTA',\n",
       "       'FT_Perc', 'TOV', 'PF', 'ORB', 'DRB', 'RPG', 'APG', 'SPG', 'BPG', 'PPG',\n",
       "       'College', 'BPM_x', 'Season', 'Age', 'Tm', 'Lg', 'Pos', 'G', 'MP',\n",
       "       'PER', 'TS%', '3PAr', 'FTr', 'ORB%', 'DRB%', 'TRB%', 'AST%', 'STL%',\n",
       "       'BLK%', 'TOV%', 'USG%', 'OWS', 'DWS', 'WS', 'WS/48', 'OBPM', 'DBPM',\n",
       "       'BPM_y', 'VORP'],\n",
       "      dtype='object')"
      ]
     },
     "execution_count": 51,
     "metadata": {},
     "output_type": "execute_result"
    }
   ],
   "source": [
    "# sort by box plus/minus (BPM)\n",
    "sorted_BPM = result.sort_values(['BPM_y'], ascending=False)\n",
    "sorted_BPM.columns"
   ]
  },
  {
   "cell_type": "code",
   "execution_count": 52,
   "metadata": {},
   "outputs": [
    {
     "data": {
      "text/plain": [
       "128"
      ]
     },
     "execution_count": 52,
     "metadata": {},
     "output_type": "execute_result"
    }
   ],
   "source": [
    "# check number of unique colleges\n",
    "sorted_BPM['College'].nunique()"
   ]
  },
  {
   "cell_type": "code",
   "execution_count": 53,
   "metadata": {},
   "outputs": [
    {
     "data": {
      "text/plain": [
       "College\n",
       "Morehead State University                     3.400000\n",
       "Louisiana Tech University                     2.900000\n",
       "0                                             2.500000\n",
       "University of South Carolina                  1.400000\n",
       "University of North Texas                     1.300000\n",
       "Davidson College                              1.000000\n",
       "Western Kentucky University                   0.850000\n",
       "University of Tulsa                           0.600000\n",
       "University of Utah                            0.133333\n",
       "Weber State University                       -0.250000\n",
       "Wake Forest University                       -0.400000\n",
       "Saint Joseph's University                    -0.550000\n",
       "San Diego State University                   -0.550000\n",
       "University of Illinois at Urbana-Champaign   -0.750000\n",
       "Norfolk State University                     -0.900000\n",
       "Bowling Green State University               -0.900000\n",
       "Villanova University                         -0.950000\n",
       "St. John's University                        -1.000000\n",
       "New Mexico State University                  -1.100000\n",
       "Eastern Washington University                -1.100000\n",
       "Name: BPM_y, dtype: float64"
      ]
     },
     "execution_count": 53,
     "metadata": {},
     "output_type": "execute_result"
    }
   ],
   "source": [
    "# average rookie year BPM grouped by College\n",
    "sorted_BPM.groupby(['College']).mean()['BPM_y'].sort_values(ascending=False).head(20)"
   ]
  },
  {
   "cell_type": "code",
   "execution_count": 54,
   "metadata": {
    "collapsed": true
   },
   "outputs": [],
   "source": [
    "# create a dictionary with college and the count of how many NBA drafts they produced\n",
    "college_count = dict(sorted_BPM.groupby(['College']).count()['BPM_y'])"
   ]
  },
  {
   "cell_type": "code",
   "execution_count": 55,
   "metadata": {
    "collapsed": true
   },
   "outputs": [],
   "source": [
    "def CollegeCountAbove5(college):\n",
    "    '''\n",
    "    Function to be used to create new column to filter out colleges that did not produce more than 5\n",
    "    drafted players in the NBA\n",
    "    '''\n",
    "    if college_count[college] > 5:\n",
    "        return 'Y'\n",
    "    else:\n",
    "        return 'N'"
   ]
  },
  {
   "cell_type": "code",
   "execution_count": 56,
   "metadata": {
    "collapsed": true
   },
   "outputs": [],
   "source": [
    "# create a new column to see whether that player went to a college that produced more than 5 NBA drafts\n",
    "result['College_above_5'] = result['College'].apply(CollegeCountAbove5)"
   ]
  },
  {
   "cell_type": "code",
   "execution_count": 57,
   "metadata": {},
   "outputs": [
    {
     "data": {
      "text/plain": [
       "College\n",
       "University of Illinois at Urbana-Champaign   -0.750000\n",
       "University of Florida                        -1.792308\n",
       "University of Pittsburgh                     -1.933333\n",
       "Stanford University                          -2.142857\n",
       "Georgia Institute of Technology              -2.228571\n",
       "University of Kansas                         -2.447368\n",
       "Indiana University                           -2.533333\n",
       "University of Washington                     -2.541667\n",
       "University of Memphis                        -2.577778\n",
       "University of North Carolina                 -2.583333\n",
       "Oklahoma State University                    -2.583333\n",
       "Louisiana State University                   -2.600000\n",
       "Georgetown University                        -2.600000\n",
       "University of Kentucky                       -2.653571\n",
       "Duke University                              -2.710000\n",
       "University of California, Los Angeles        -2.789474\n",
       "University of Southern California            -2.800000\n",
       "Ohio State University                        -3.025000\n",
       "University of Connecticut                    -3.193750\n",
       "University of Michigan                       -3.533333\n",
       "Name: BPM_y, dtype: float64"
      ]
     },
     "execution_count": 57,
     "metadata": {},
     "output_type": "execute_result"
    }
   ],
   "source": [
    "# top colleges and their average rookie BPMs\n",
    "result[result['College_above_5'] == 'Y'].groupby(['College']).mean()['BPM_y'].sort_values(ascending=False).head(20)"
   ]
  },
  {
   "cell_type": "code",
   "execution_count": 58,
   "metadata": {
    "collapsed": true
   },
   "outputs": [],
   "source": [
    "# find top colleges based on drafted players BPM\n",
    "top_colleges = list(result[result['College_above_5'] == 'Y'].groupby(['College']).mean()['BPM_y'].sort_values(ascending=False).head(10).index)"
   ]
  },
  {
   "cell_type": "code",
   "execution_count": 59,
   "metadata": {},
   "outputs": [
    {
     "data": {
      "text/plain": [
       "['University of Illinois at Urbana-Champaign',\n",
       " 'University of Florida',\n",
       " 'University of Pittsburgh',\n",
       " 'Stanford University',\n",
       " 'Georgia Institute of Technology',\n",
       " 'University of Kansas',\n",
       " 'Indiana University',\n",
       " 'University of Washington',\n",
       " 'University of Memphis',\n",
       " 'University of North Carolina']"
      ]
     },
     "execution_count": 59,
     "metadata": {},
     "output_type": "execute_result"
    }
   ],
   "source": [
    "top_colleges"
   ]
  },
  {
   "cell_type": "code",
   "execution_count": 60,
   "metadata": {
    "collapsed": true
   },
   "outputs": [],
   "source": [
    "def TopCollege(x):\n",
    "    '''\n",
    "    Function to categorize all colleges outside of the top 10 colleges as \"bad\"\n",
    "    '''\n",
    "    if x in top_colleges:\n",
    "        return x\n",
    "    else:\n",
    "        return 'Bad'"
   ]
  },
  {
   "cell_type": "code",
   "execution_count": 61,
   "metadata": {
    "collapsed": true
   },
   "outputs": [],
   "source": [
    "# create new column, shows college if it is in top college, bad otherwise\n",
    "result['College_adj'] = result['College'].apply(TopCollege)"
   ]
  },
  {
   "cell_type": "code",
   "execution_count": 62,
   "metadata": {
    "collapsed": true
   },
   "outputs": [],
   "source": [
    "# create new dataframe of dummy variables, 1 if attended top college, 0 otherwise\n",
    "dummies = pd.get_dummies(result['College_adj'])"
   ]
  },
  {
   "cell_type": "code",
   "execution_count": 63,
   "metadata": {
    "collapsed": true
   },
   "outputs": [],
   "source": [
    "# glue dummy and result dataframe\n",
    "result = pd.concat([result, dummies], axis=1)"
   ]
  },
  {
   "cell_type": "code",
   "execution_count": 64,
   "metadata": {
    "collapsed": true
   },
   "outputs": [],
   "source": [
    "# renaming column headers to something easier to read\n",
    "new_columns = ['Player',\n",
    " 'Birthday',\n",
    " 'Height_ft',\n",
    " 'Height_in',\n",
    " 'Weight',\n",
    " 'Yrs_Played_College',\n",
    " 'GP_College',\n",
    " 'MPG_College',\n",
    " 'FGM_College',\n",
    " 'FGA_College',\n",
    " 'FG_Perc_College',\n",
    " '3PM_College',\n",
    " '3PA_College',\n",
    " '3P_Perc_College',\n",
    " 'FTM_College',\n",
    " 'FTA_College',\n",
    " 'FT_Perc_College',\n",
    " 'TOV_College',\n",
    " 'PF_College',\n",
    " 'ORB_College',\n",
    " 'DRB_College',\n",
    " 'RPG_College',\n",
    " 'APG_College',\n",
    " 'SPG_College',\n",
    " 'BPG_College',\n",
    " 'PPG_College',\n",
    " 'College',\n",
    " 'Total_BPM_NBA',\n",
    " 'Rookie_Season',\n",
    " 'Rookie_Age',\n",
    " 'Draft_Tm',\n",
    " 'League',\n",
    " 'Position',\n",
    " 'GP_Rookie',\n",
    " 'MP_Total_Rookie',\n",
    " 'PER',\n",
    " 'TS%',\n",
    " '3PAr',\n",
    " 'FTr',\n",
    " 'ORB%',\n",
    " 'DRB%',\n",
    " 'TRB%',\n",
    " 'AST%',\n",
    " 'STL%',\n",
    " 'BLK%',\n",
    " 'TOV%',\n",
    " 'USG%',\n",
    " 'OWS',\n",
    " 'DWS',\n",
    " 'WS_Rookie',\n",
    " 'WS_per_48_Rookie',\n",
    " 'OBPM',\n",
    " 'DBPM',\n",
    " 'BPM_Rookie',\n",
    " 'VORP_Rookie',\n",
    " 'College_above_5',\n",
    " 'College_adj',\n",
    " 'Bad'] + top_colleges"
   ]
  },
  {
   "cell_type": "code",
   "execution_count": 65,
   "metadata": {
    "collapsed": true
   },
   "outputs": [],
   "source": [
    "result.columns = new_columns"
   ]
  },
  {
   "cell_type": "code",
   "execution_count": 66,
   "metadata": {
    "collapsed": true
   },
   "outputs": [],
   "source": [
    "# create new column for total height in inches\n",
    "result['Total_Height_in'] = result['Height_ft'] * 12 + result['Height_in']"
   ]
  },
  {
   "cell_type": "code",
   "execution_count": 67,
   "metadata": {},
   "outputs": [
    {
     "data": {
      "text/html": [
       "<div>\n",
       "<style>\n",
       "    .dataframe thead tr:only-child th {\n",
       "        text-align: right;\n",
       "    }\n",
       "\n",
       "    .dataframe thead th {\n",
       "        text-align: left;\n",
       "    }\n",
       "\n",
       "    .dataframe tbody tr th {\n",
       "        vertical-align: top;\n",
       "    }\n",
       "</style>\n",
       "<table border=\"1\" class=\"dataframe\">\n",
       "  <thead>\n",
       "    <tr style=\"text-align: right;\">\n",
       "      <th></th>\n",
       "      <th>Player</th>\n",
       "      <th>Birthday</th>\n",
       "      <th>Height_ft</th>\n",
       "      <th>Height_in</th>\n",
       "      <th>Weight</th>\n",
       "      <th>Yrs_Played_College</th>\n",
       "      <th>GP_College</th>\n",
       "      <th>MPG_College</th>\n",
       "      <th>FGM_College</th>\n",
       "      <th>FGA_College</th>\n",
       "      <th>...</th>\n",
       "      <th>University of Florida</th>\n",
       "      <th>University of Pittsburgh</th>\n",
       "      <th>Stanford University</th>\n",
       "      <th>Georgia Institute of Technology</th>\n",
       "      <th>University of Kansas</th>\n",
       "      <th>Indiana University</th>\n",
       "      <th>University of Washington</th>\n",
       "      <th>University of Memphis</th>\n",
       "      <th>University of North Carolina</th>\n",
       "      <th>Total_Height_in</th>\n",
       "    </tr>\n",
       "  </thead>\n",
       "  <tbody>\n",
       "    <tr>\n",
       "      <th>133</th>\n",
       "      <td>David Lee</td>\n",
       "      <td>1983-04-29</td>\n",
       "      <td>6</td>\n",
       "      <td>9</td>\n",
       "      <td>245</td>\n",
       "      <td>5.0</td>\n",
       "      <td>30.000000</td>\n",
       "      <td>28.980000</td>\n",
       "      <td>4.640000</td>\n",
       "      <td>9.280000</td>\n",
       "      <td>...</td>\n",
       "      <td>0</td>\n",
       "      <td>0</td>\n",
       "      <td>1</td>\n",
       "      <td>0</td>\n",
       "      <td>0</td>\n",
       "      <td>0</td>\n",
       "      <td>0</td>\n",
       "      <td>0</td>\n",
       "      <td>0</td>\n",
       "      <td>81</td>\n",
       "    </tr>\n",
       "    <tr>\n",
       "      <th>196</th>\n",
       "      <td>James White</td>\n",
       "      <td>1982-10-21</td>\n",
       "      <td>6</td>\n",
       "      <td>7</td>\n",
       "      <td>200</td>\n",
       "      <td>5.0</td>\n",
       "      <td>30.400000</td>\n",
       "      <td>25.820000</td>\n",
       "      <td>3.780000</td>\n",
       "      <td>7.680000</td>\n",
       "      <td>...</td>\n",
       "      <td>0</td>\n",
       "      <td>0</td>\n",
       "      <td>0</td>\n",
       "      <td>0</td>\n",
       "      <td>0</td>\n",
       "      <td>0</td>\n",
       "      <td>0</td>\n",
       "      <td>0</td>\n",
       "      <td>0</td>\n",
       "      <td>79</td>\n",
       "    </tr>\n",
       "    <tr>\n",
       "      <th>199</th>\n",
       "      <td>Paul Davis</td>\n",
       "      <td>1984-07-21</td>\n",
       "      <td>6</td>\n",
       "      <td>11</td>\n",
       "      <td>270</td>\n",
       "      <td>7.0</td>\n",
       "      <td>30.857143</td>\n",
       "      <td>25.142857</td>\n",
       "      <td>4.071429</td>\n",
       "      <td>7.585714</td>\n",
       "      <td>...</td>\n",
       "      <td>0</td>\n",
       "      <td>0</td>\n",
       "      <td>0</td>\n",
       "      <td>0</td>\n",
       "      <td>0</td>\n",
       "      <td>0</td>\n",
       "      <td>0</td>\n",
       "      <td>0</td>\n",
       "      <td>0</td>\n",
       "      <td>83</td>\n",
       "    </tr>\n",
       "    <tr>\n",
       "      <th>210</th>\n",
       "      <td>Dee Brown</td>\n",
       "      <td>1984-08-17</td>\n",
       "      <td>6</td>\n",
       "      <td>0</td>\n",
       "      <td>185</td>\n",
       "      <td>7.0</td>\n",
       "      <td>33.000000</td>\n",
       "      <td>32.185714</td>\n",
       "      <td>4.285714</td>\n",
       "      <td>10.100000</td>\n",
       "      <td>...</td>\n",
       "      <td>0</td>\n",
       "      <td>0</td>\n",
       "      <td>0</td>\n",
       "      <td>1</td>\n",
       "      <td>0</td>\n",
       "      <td>0</td>\n",
       "      <td>0</td>\n",
       "      <td>0</td>\n",
       "      <td>0</td>\n",
       "      <td>72</td>\n",
       "    </tr>\n",
       "    <tr>\n",
       "      <th>292</th>\n",
       "      <td>Jason Thompson</td>\n",
       "      <td>1986-07-21</td>\n",
       "      <td>6</td>\n",
       "      <td>11</td>\n",
       "      <td>250</td>\n",
       "      <td>5.0</td>\n",
       "      <td>29.800000</td>\n",
       "      <td>29.280000</td>\n",
       "      <td>5.540000</td>\n",
       "      <td>10.740000</td>\n",
       "      <td>...</td>\n",
       "      <td>0</td>\n",
       "      <td>0</td>\n",
       "      <td>0</td>\n",
       "      <td>0</td>\n",
       "      <td>0</td>\n",
       "      <td>0</td>\n",
       "      <td>0</td>\n",
       "      <td>0</td>\n",
       "      <td>0</td>\n",
       "      <td>83</td>\n",
       "    </tr>\n",
       "    <tr>\n",
       "      <th>301</th>\n",
       "      <td>Ryan Anderson</td>\n",
       "      <td>1988-05-06</td>\n",
       "      <td>6</td>\n",
       "      <td>10</td>\n",
       "      <td>240</td>\n",
       "      <td>10.0</td>\n",
       "      <td>31.600000</td>\n",
       "      <td>29.490000</td>\n",
       "      <td>4.530000</td>\n",
       "      <td>9.570000</td>\n",
       "      <td>...</td>\n",
       "      <td>0</td>\n",
       "      <td>0</td>\n",
       "      <td>0</td>\n",
       "      <td>0</td>\n",
       "      <td>0</td>\n",
       "      <td>0</td>\n",
       "      <td>0</td>\n",
       "      <td>0</td>\n",
       "      <td>0</td>\n",
       "      <td>82</td>\n",
       "    </tr>\n",
       "    <tr>\n",
       "      <th>346</th>\n",
       "      <td>Terrence Williams</td>\n",
       "      <td>1987-06-28</td>\n",
       "      <td>6</td>\n",
       "      <td>6</td>\n",
       "      <td>220</td>\n",
       "      <td>7.0</td>\n",
       "      <td>33.714286</td>\n",
       "      <td>29.642857</td>\n",
       "      <td>3.685714</td>\n",
       "      <td>9.414286</td>\n",
       "      <td>...</td>\n",
       "      <td>0</td>\n",
       "      <td>0</td>\n",
       "      <td>0</td>\n",
       "      <td>0</td>\n",
       "      <td>0</td>\n",
       "      <td>0</td>\n",
       "      <td>0</td>\n",
       "      <td>0</td>\n",
       "      <td>0</td>\n",
       "      <td>78</td>\n",
       "    </tr>\n",
       "    <tr>\n",
       "      <th>351</th>\n",
       "      <td>James Johnson</td>\n",
       "      <td>1987-02-20</td>\n",
       "      <td>6</td>\n",
       "      <td>9</td>\n",
       "      <td>250</td>\n",
       "      <td>7.0</td>\n",
       "      <td>31.428571</td>\n",
       "      <td>30.357143</td>\n",
       "      <td>4.614286</td>\n",
       "      <td>10.642857</td>\n",
       "      <td>...</td>\n",
       "      <td>0</td>\n",
       "      <td>0</td>\n",
       "      <td>0</td>\n",
       "      <td>0</td>\n",
       "      <td>0</td>\n",
       "      <td>0</td>\n",
       "      <td>0</td>\n",
       "      <td>0</td>\n",
       "      <td>0</td>\n",
       "      <td>81</td>\n",
       "    </tr>\n",
       "    <tr>\n",
       "      <th>378</th>\n",
       "      <td>Marcus Thornton</td>\n",
       "      <td>1987-06-05</td>\n",
       "      <td>6</td>\n",
       "      <td>4</td>\n",
       "      <td>205</td>\n",
       "      <td>8.0</td>\n",
       "      <td>32.250000</td>\n",
       "      <td>32.137500</td>\n",
       "      <td>5.450000</td>\n",
       "      <td>12.325000</td>\n",
       "      <td>...</td>\n",
       "      <td>0</td>\n",
       "      <td>0</td>\n",
       "      <td>0</td>\n",
       "      <td>0</td>\n",
       "      <td>0</td>\n",
       "      <td>0</td>\n",
       "      <td>0</td>\n",
       "      <td>0</td>\n",
       "      <td>0</td>\n",
       "      <td>76</td>\n",
       "    </tr>\n",
       "    <tr>\n",
       "      <th>447</th>\n",
       "      <td>Derrick Williams</td>\n",
       "      <td>1991-05-25</td>\n",
       "      <td>6</td>\n",
       "      <td>8</td>\n",
       "      <td>240</td>\n",
       "      <td>5.0</td>\n",
       "      <td>31.000000</td>\n",
       "      <td>29.220000</td>\n",
       "      <td>4.300000</td>\n",
       "      <td>8.560000</td>\n",
       "      <td>...</td>\n",
       "      <td>0</td>\n",
       "      <td>0</td>\n",
       "      <td>0</td>\n",
       "      <td>0</td>\n",
       "      <td>0</td>\n",
       "      <td>0</td>\n",
       "      <td>0</td>\n",
       "      <td>0</td>\n",
       "      <td>0</td>\n",
       "      <td>80</td>\n",
       "    </tr>\n",
       "    <tr>\n",
       "      <th>449</th>\n",
       "      <td>Tristan Thompson</td>\n",
       "      <td>1991-03-13</td>\n",
       "      <td>6</td>\n",
       "      <td>9</td>\n",
       "      <td>238</td>\n",
       "      <td>5.0</td>\n",
       "      <td>32.800000</td>\n",
       "      <td>26.360000</td>\n",
       "      <td>3.820000</td>\n",
       "      <td>8.280000</td>\n",
       "      <td>...</td>\n",
       "      <td>0</td>\n",
       "      <td>0</td>\n",
       "      <td>0</td>\n",
       "      <td>0</td>\n",
       "      <td>0</td>\n",
       "      <td>0</td>\n",
       "      <td>0</td>\n",
       "      <td>0</td>\n",
       "      <td>0</td>\n",
       "      <td>81</td>\n",
       "    </tr>\n",
       "    <tr>\n",
       "      <th>469</th>\n",
       "      <td>Reggie Jackson</td>\n",
       "      <td>1990-04-16</td>\n",
       "      <td>6</td>\n",
       "      <td>3</td>\n",
       "      <td>208</td>\n",
       "      <td>5.0</td>\n",
       "      <td>31.400000</td>\n",
       "      <td>26.160000</td>\n",
       "      <td>3.900000</td>\n",
       "      <td>8.680000</td>\n",
       "      <td>...</td>\n",
       "      <td>0</td>\n",
       "      <td>0</td>\n",
       "      <td>0</td>\n",
       "      <td>0</td>\n",
       "      <td>0</td>\n",
       "      <td>0</td>\n",
       "      <td>0</td>\n",
       "      <td>0</td>\n",
       "      <td>0</td>\n",
       "      <td>75</td>\n",
       "    </tr>\n",
       "    <tr>\n",
       "      <th>481</th>\n",
       "      <td>Jordan Williams</td>\n",
       "      <td>1990-10-11</td>\n",
       "      <td>6</td>\n",
       "      <td>10</td>\n",
       "      <td>260</td>\n",
       "      <td>5.0</td>\n",
       "      <td>32.000000</td>\n",
       "      <td>29.860000</td>\n",
       "      <td>4.820000</td>\n",
       "      <td>10.720000</td>\n",
       "      <td>...</td>\n",
       "      <td>0</td>\n",
       "      <td>0</td>\n",
       "      <td>0</td>\n",
       "      <td>0</td>\n",
       "      <td>0</td>\n",
       "      <td>0</td>\n",
       "      <td>0</td>\n",
       "      <td>0</td>\n",
       "      <td>0</td>\n",
       "      <td>82</td>\n",
       "    </tr>\n",
       "    <tr>\n",
       "      <th>547</th>\n",
       "      <td>Mike Scott</td>\n",
       "      <td>1988-07-16</td>\n",
       "      <td>6</td>\n",
       "      <td>8</td>\n",
       "      <td>237</td>\n",
       "      <td>13.0</td>\n",
       "      <td>30.769231</td>\n",
       "      <td>27.938462</td>\n",
       "      <td>3.684615</td>\n",
       "      <td>8.030769</td>\n",
       "      <td>...</td>\n",
       "      <td>0</td>\n",
       "      <td>0</td>\n",
       "      <td>0</td>\n",
       "      <td>0</td>\n",
       "      <td>0</td>\n",
       "      <td>0</td>\n",
       "      <td>0</td>\n",
       "      <td>0</td>\n",
       "      <td>0</td>\n",
       "      <td>80</td>\n",
       "    </tr>\n",
       "    <tr>\n",
       "      <th>601</th>\n",
       "      <td>Tony Mitchell</td>\n",
       "      <td>1992-04-07</td>\n",
       "      <td>6</td>\n",
       "      <td>8</td>\n",
       "      <td>235</td>\n",
       "      <td>6.0</td>\n",
       "      <td>31.500000</td>\n",
       "      <td>29.316667</td>\n",
       "      <td>4.400000</td>\n",
       "      <td>10.050000</td>\n",
       "      <td>...</td>\n",
       "      <td>0</td>\n",
       "      <td>0</td>\n",
       "      <td>0</td>\n",
       "      <td>0</td>\n",
       "      <td>0</td>\n",
       "      <td>0</td>\n",
       "      <td>0</td>\n",
       "      <td>0</td>\n",
       "      <td>0</td>\n",
       "      <td>80</td>\n",
       "    </tr>\n",
       "    <tr>\n",
       "      <th>653</th>\n",
       "      <td>Kyle Anderson</td>\n",
       "      <td>1993-09-20</td>\n",
       "      <td>6</td>\n",
       "      <td>9</td>\n",
       "      <td>230</td>\n",
       "      <td>6.0</td>\n",
       "      <td>32.166667</td>\n",
       "      <td>32.666667</td>\n",
       "      <td>3.850000</td>\n",
       "      <td>9.666667</td>\n",
       "      <td>...</td>\n",
       "      <td>0</td>\n",
       "      <td>0</td>\n",
       "      <td>0</td>\n",
       "      <td>0</td>\n",
       "      <td>0</td>\n",
       "      <td>0</td>\n",
       "      <td>0</td>\n",
       "      <td>0</td>\n",
       "      <td>0</td>\n",
       "      <td>81</td>\n",
       "    </tr>\n",
       "    <tr>\n",
       "      <th>717</th>\n",
       "      <td>Anthony Brown</td>\n",
       "      <td>1992-10-10</td>\n",
       "      <td>6</td>\n",
       "      <td>7</td>\n",
       "      <td>210</td>\n",
       "      <td>8.0</td>\n",
       "      <td>33.250000</td>\n",
       "      <td>27.300000</td>\n",
       "      <td>3.450000</td>\n",
       "      <td>7.275000</td>\n",
       "      <td>...</td>\n",
       "      <td>0</td>\n",
       "      <td>1</td>\n",
       "      <td>0</td>\n",
       "      <td>0</td>\n",
       "      <td>0</td>\n",
       "      <td>0</td>\n",
       "      <td>0</td>\n",
       "      <td>0</td>\n",
       "      <td>0</td>\n",
       "      <td>79</td>\n",
       "    </tr>\n",
       "    <tr>\n",
       "      <th>728</th>\n",
       "      <td>Marcus Thornton</td>\n",
       "      <td>1993-02-09</td>\n",
       "      <td>6</td>\n",
       "      <td>4</td>\n",
       "      <td>190</td>\n",
       "      <td>8.0</td>\n",
       "      <td>32.250000</td>\n",
       "      <td>32.137500</td>\n",
       "      <td>5.450000</td>\n",
       "      <td>12.325000</td>\n",
       "      <td>...</td>\n",
       "      <td>0</td>\n",
       "      <td>0</td>\n",
       "      <td>0</td>\n",
       "      <td>0</td>\n",
       "      <td>0</td>\n",
       "      <td>0</td>\n",
       "      <td>0</td>\n",
       "      <td>0</td>\n",
       "      <td>0</td>\n",
       "      <td>76</td>\n",
       "    </tr>\n",
       "  </tbody>\n",
       "</table>\n",
       "<p>18 rows × 69 columns</p>\n",
       "</div>"
      ],
      "text/plain": [
       "                Player    Birthday  Height_ft  Height_in  Weight  \\\n",
       "133          David Lee  1983-04-29          6          9     245   \n",
       "196        James White  1982-10-21          6          7     200   \n",
       "199         Paul Davis  1984-07-21          6         11     270   \n",
       "210          Dee Brown  1984-08-17          6          0     185   \n",
       "292     Jason Thompson  1986-07-21          6         11     250   \n",
       "301      Ryan Anderson  1988-05-06          6         10     240   \n",
       "346  Terrence Williams  1987-06-28          6          6     220   \n",
       "351      James Johnson  1987-02-20          6          9     250   \n",
       "378    Marcus Thornton  1987-06-05          6          4     205   \n",
       "447   Derrick Williams  1991-05-25          6          8     240   \n",
       "449   Tristan Thompson  1991-03-13          6          9     238   \n",
       "469     Reggie Jackson  1990-04-16          6          3     208   \n",
       "481    Jordan Williams  1990-10-11          6         10     260   \n",
       "547         Mike Scott  1988-07-16          6          8     237   \n",
       "601      Tony Mitchell  1992-04-07          6          8     235   \n",
       "653      Kyle Anderson  1993-09-20          6          9     230   \n",
       "717      Anthony Brown  1992-10-10          6          7     210   \n",
       "728    Marcus Thornton  1993-02-09          6          4     190   \n",
       "\n",
       "     Yrs_Played_College  GP_College  MPG_College  FGM_College  FGA_College  \\\n",
       "133                 5.0   30.000000    28.980000     4.640000     9.280000   \n",
       "196                 5.0   30.400000    25.820000     3.780000     7.680000   \n",
       "199                 7.0   30.857143    25.142857     4.071429     7.585714   \n",
       "210                 7.0   33.000000    32.185714     4.285714    10.100000   \n",
       "292                 5.0   29.800000    29.280000     5.540000    10.740000   \n",
       "301                10.0   31.600000    29.490000     4.530000     9.570000   \n",
       "346                 7.0   33.714286    29.642857     3.685714     9.414286   \n",
       "351                 7.0   31.428571    30.357143     4.614286    10.642857   \n",
       "378                 8.0   32.250000    32.137500     5.450000    12.325000   \n",
       "447                 5.0   31.000000    29.220000     4.300000     8.560000   \n",
       "449                 5.0   32.800000    26.360000     3.820000     8.280000   \n",
       "469                 5.0   31.400000    26.160000     3.900000     8.680000   \n",
       "481                 5.0   32.000000    29.860000     4.820000    10.720000   \n",
       "547                13.0   30.769231    27.938462     3.684615     8.030769   \n",
       "601                 6.0   31.500000    29.316667     4.400000    10.050000   \n",
       "653                 6.0   32.166667    32.666667     3.850000     9.666667   \n",
       "717                 8.0   33.250000    27.300000     3.450000     7.275000   \n",
       "728                 8.0   32.250000    32.137500     5.450000    12.325000   \n",
       "\n",
       "          ...         University of Florida  University of Pittsburgh  \\\n",
       "133       ...                             0                         0   \n",
       "196       ...                             0                         0   \n",
       "199       ...                             0                         0   \n",
       "210       ...                             0                         0   \n",
       "292       ...                             0                         0   \n",
       "301       ...                             0                         0   \n",
       "346       ...                             0                         0   \n",
       "351       ...                             0                         0   \n",
       "378       ...                             0                         0   \n",
       "447       ...                             0                         0   \n",
       "449       ...                             0                         0   \n",
       "469       ...                             0                         0   \n",
       "481       ...                             0                         0   \n",
       "547       ...                             0                         0   \n",
       "601       ...                             0                         0   \n",
       "653       ...                             0                         0   \n",
       "717       ...                             0                         1   \n",
       "728       ...                             0                         0   \n",
       "\n",
       "     Stanford University  Georgia Institute of Technology  \\\n",
       "133                    1                                0   \n",
       "196                    0                                0   \n",
       "199                    0                                0   \n",
       "210                    0                                1   \n",
       "292                    0                                0   \n",
       "301                    0                                0   \n",
       "346                    0                                0   \n",
       "351                    0                                0   \n",
       "378                    0                                0   \n",
       "447                    0                                0   \n",
       "449                    0                                0   \n",
       "469                    0                                0   \n",
       "481                    0                                0   \n",
       "547                    0                                0   \n",
       "601                    0                                0   \n",
       "653                    0                                0   \n",
       "717                    0                                0   \n",
       "728                    0                                0   \n",
       "\n",
       "     University of Kansas  Indiana University  University of Washington  \\\n",
       "133                     0                   0                         0   \n",
       "196                     0                   0                         0   \n",
       "199                     0                   0                         0   \n",
       "210                     0                   0                         0   \n",
       "292                     0                   0                         0   \n",
       "301                     0                   0                         0   \n",
       "346                     0                   0                         0   \n",
       "351                     0                   0                         0   \n",
       "378                     0                   0                         0   \n",
       "447                     0                   0                         0   \n",
       "449                     0                   0                         0   \n",
       "469                     0                   0                         0   \n",
       "481                     0                   0                         0   \n",
       "547                     0                   0                         0   \n",
       "601                     0                   0                         0   \n",
       "653                     0                   0                         0   \n",
       "717                     0                   0                         0   \n",
       "728                     0                   0                         0   \n",
       "\n",
       "     University of Memphis  University of North Carolina  Total_Height_in  \n",
       "133                      0                             0               81  \n",
       "196                      0                             0               79  \n",
       "199                      0                             0               83  \n",
       "210                      0                             0               72  \n",
       "292                      0                             0               83  \n",
       "301                      0                             0               82  \n",
       "346                      0                             0               78  \n",
       "351                      0                             0               81  \n",
       "378                      0                             0               76  \n",
       "447                      0                             0               80  \n",
       "449                      0                             0               81  \n",
       "469                      0                             0               75  \n",
       "481                      0                             0               82  \n",
       "547                      0                             0               80  \n",
       "601                      0                             0               80  \n",
       "653                      0                             0               81  \n",
       "717                      0                             0               79  \n",
       "728                      0                             0               76  \n",
       "\n",
       "[18 rows x 69 columns]"
      ]
     },
     "execution_count": 67,
     "metadata": {},
     "output_type": "execute_result"
    }
   ],
   "source": [
    "# a college player typically plays for a max 4 years in college, the datafram shows a few players who played\n",
    "# more than 4 years. This is because the college stats dataframe was grouped by name and averaged and these players\n",
    "# share the same name\n",
    "result[result['Yrs_Played_College'] > 4]"
   ]
  },
  {
   "cell_type": "code",
   "execution_count": 68,
   "metadata": {
    "collapsed": true
   },
   "outputs": [],
   "source": [
    "# define a function max4 that changes the years in college to max 4\n",
    "def max4(yrs):\n",
    "    '''\n",
    "    Function that limits the maximum years played in college to 4\n",
    "    '''\n",
    "    if yrs > 4:\n",
    "        return 4\n",
    "    else:\n",
    "        return yrs"
   ]
  },
  {
   "cell_type": "code",
   "execution_count": 69,
   "metadata": {
    "collapsed": true
   },
   "outputs": [],
   "source": [
    "# apply max4 function\n",
    "result['Yrs_Played_College'] = result['Yrs_Played_College'].apply(max4)"
   ]
  },
  {
   "cell_type": "code",
   "execution_count": 70,
   "metadata": {
    "collapsed": true
   },
   "outputs": [],
   "source": [
    "# create new column for rookie draft year\n",
    "result['Draft_Yr'] = result['Rookie_Season'].apply(lambda x:x[:4])"
   ]
  },
  {
   "cell_type": "code",
   "execution_count": 71,
   "metadata": {
    "collapsed": true
   },
   "outputs": [],
   "source": [
    "# create a column of draft year and draft team to be used as a key to merge team BPM csv file\n",
    "result['Yr_Tm'] = result[\"Draft_Yr\"].map(str) + result[\"Draft_Tm\"]"
   ]
  },
  {
   "cell_type": "code",
   "execution_count": 72,
   "metadata": {
    "collapsed": true
   },
   "outputs": [],
   "source": [
    "# read team BPM file\n",
    "BPMs = pd.read_csv('team_bpm.csv',index_col=0)"
   ]
  },
  {
   "cell_type": "code",
   "execution_count": 73,
   "metadata": {
    "collapsed": true
   },
   "outputs": [],
   "source": [
    "# merge dataframes\n",
    "result = pd.merge(result,BPMs,on=['Yr_Tm'],how='right')"
   ]
  },
  {
   "cell_type": "code",
   "execution_count": 74,
   "metadata": {},
   "outputs": [
    {
     "data": {
      "text/plain": [
       "Index(['Player', 'Birthday', 'Height_ft', 'Height_in', 'Weight',\n",
       "       'Yrs_Played_College', 'GP_College', 'MPG_College', 'FGM_College',\n",
       "       'FGA_College', 'FG_Perc_College', '3PM_College', '3PA_College',\n",
       "       '3P_Perc_College', 'FTM_College', 'FTA_College', 'FT_Perc_College',\n",
       "       'TOV_College', 'PF_College', 'ORB_College', 'DRB_College',\n",
       "       'RPG_College', 'APG_College', 'SPG_College', 'BPG_College',\n",
       "       'PPG_College', 'College', 'Total_BPM_NBA', 'Rookie_Season',\n",
       "       'Rookie_Age', 'Draft_Tm_x', 'League', 'Position', 'GP_Rookie',\n",
       "       'MP_Total_Rookie', 'PER', 'TS%', '3PAr', 'FTr', 'ORB%', 'DRB%', 'TRB%',\n",
       "       'AST%', 'STL%', 'BLK%', 'TOV%', 'USG%', 'OWS', 'DWS', 'WS_Rookie',\n",
       "       'WS_per_48_Rookie', 'OBPM', 'DBPM', 'BPM_Rookie', 'VORP_Rookie',\n",
       "       'College_above_5', 'College_adj', 'Bad',\n",
       "       'University of Illinois at Urbana-Champaign', 'University of Florida',\n",
       "       'University of Pittsburgh', 'Stanford University',\n",
       "       'Georgia Institute of Technology', 'University of Kansas',\n",
       "       'Indiana University', 'University of Washington',\n",
       "       'University of Memphis', 'University of North Carolina',\n",
       "       'Total_Height_in', 'Draft_Yr_x', 'Yr_Tm', 'Draft_Tm_y', 'Draft_Yr_y',\n",
       "       'BPM_top3', 'BPM_top5', 'BPM_top7', 'BPM_top13', 'top3/top5',\n",
       "       'top3/top7', 'top3/top13', 'top5/top7', 'top5/top13', 'top7/top13'],\n",
       "      dtype='object')"
      ]
     },
     "execution_count": 74,
     "metadata": {},
     "output_type": "execute_result"
    }
   ],
   "source": [
    "result.columns"
   ]
  },
  {
   "cell_type": "code",
   "execution_count": 75,
   "metadata": {
    "collapsed": true
   },
   "outputs": [],
   "source": [
    "# remove columns to create a final dataframe\n",
    "result = result[['Player', 'Birthday', 'Total_Height_in', 'Weight',\n",
    "       'Yrs_Played_College', 'GP_College', 'MPG_College', 'FGM_College',\n",
    "       'FGA_College', 'FG_Perc_College', '3PM_College', '3PA_College',\n",
    "       '3P_Perc_College', 'FTM_College', 'FTA_College', 'FT_Perc_College',\n",
    "       'TOV_College', 'PF_College', 'ORB_College', 'DRB_College',\n",
    "       'RPG_College', 'APG_College', 'SPG_College', 'BPG_College',\n",
    "       'PPG_College', 'College', 'Total_BPM_NBA',\n",
    "       'Rookie_Age', 'Position', 'GP_Rookie',\n",
    "       'MP_Total_Rookie', 'PER', 'TS%', '3PAr', 'FTr', 'ORB%', 'DRB%', 'TRB%',\n",
    "       'AST%', 'STL%', 'BLK%', 'TOV%', 'USG%', 'OWS', 'DWS', 'WS_Rookie',\n",
    "       'WS_per_48_Rookie', 'OBPM', 'DBPM', 'BPM_Rookie', 'VORP_Rookie',\n",
    "       'College_above_5', 'College_adj', 'Bad',\n",
    "       'Georgia Institute of Technology', 'Indiana University',\n",
    "       'Stanford University', 'University of Florida',\n",
    "       'University of Illinois at Urbana-Champaign', 'University of Kansas',\n",
    "       'University of Memphis', 'University of North Carolina',\n",
    "       'University of Pittsburgh', 'University of Washington',\n",
    "       'Yr_Tm','BPM_top3', 'BPM_top5', 'BPM_top7', 'BPM_top13',\n",
    "       'top3/top5', 'top3/top7', 'top3/top13', 'top5/top13', 'top7/top13']]"
   ]
  },
  {
   "cell_type": "code",
   "execution_count": 76,
   "metadata": {
    "collapsed": true
   },
   "outputs": [],
   "source": [
    "result = result[np.isfinite(result['Weight'])]"
   ]
  },
  {
   "cell_type": "code",
   "execution_count": 77,
   "metadata": {},
   "outputs": [
    {
     "name": "stdout",
     "output_type": "stream",
     "text": [
      "I scraped 13162 college player stats.\n",
      "There have been 798 players drafted into the NBA since 2003.\n",
      "Of those 798 drafted players, 96 did not play in the NBA.\n",
      "Of the 798 drafted players, 226 did not play in the NCAA.\n",
      "Filtering out these players, the resulting data set has 509 players, and 74 features.\n"
     ]
    }
   ],
   "source": [
    "print('I scraped',college_df.shape[0],'college player stats.')\n",
    "print('There have been',player_df.shape[0], 'players drafted into the NBA since 2003.')\n",
    "print('Of those',player_df.shape[0], 'drafted players,',no_nba.shape[0],'did not play in the NBA.')\n",
    "print('Of the',player_df.shape[0], 'drafted players,',no_college.shape[0],'did not play in the NCAA.')\n",
    "print('Filtering out these players, the resulting data set has',result.shape[0],'players, and',result.shape[1],'features.')"
   ]
  },
  {
   "cell_type": "code",
   "execution_count": 78,
   "metadata": {
    "collapsed": true
   },
   "outputs": [],
   "source": [
    "# save result dataframe as csv\n",
    "result.to_csv('result_data.csv')"
   ]
  },
  {
   "cell_type": "code",
   "execution_count": 107,
   "metadata": {},
   "outputs": [
    {
     "data": {
      "text/html": [
       "<div>\n",
       "<style>\n",
       "    .dataframe thead tr:only-child th {\n",
       "        text-align: right;\n",
       "    }\n",
       "\n",
       "    .dataframe thead th {\n",
       "        text-align: left;\n",
       "    }\n",
       "\n",
       "    .dataframe tbody tr th {\n",
       "        vertical-align: top;\n",
       "    }\n",
       "</style>\n",
       "<table border=\"1\" class=\"dataframe\">\n",
       "  <thead>\n",
       "    <tr style=\"text-align: right;\">\n",
       "      <th></th>\n",
       "      <th>Player</th>\n",
       "      <th>BPM_Rookie</th>\n",
       "    </tr>\n",
       "  </thead>\n",
       "  <tbody>\n",
       "    <tr>\n",
       "      <th>481</th>\n",
       "      <td>Demetrius Jackson</td>\n",
       "      <td>6.3</td>\n",
       "    </tr>\n",
       "  </tbody>\n",
       "</table>\n",
       "</div>"
      ],
      "text/plain": [
       "                Player  BPM_Rookie\n",
       "481  Demetrius Jackson         6.3"
      ]
     },
     "execution_count": 107,
     "metadata": {},
     "output_type": "execute_result"
    }
   ],
   "source": [
    "result[result['BPM_Rookie'] == result['BPM_Rookie'].max()][['Player','BPM_Rookie']]"
   ]
  },
  {
   "cell_type": "code",
   "execution_count": 109,
   "metadata": {},
   "outputs": [
    {
     "data": {
      "text/html": [
       "<div>\n",
       "<style>\n",
       "    .dataframe thead tr:only-child th {\n",
       "        text-align: right;\n",
       "    }\n",
       "\n",
       "    .dataframe thead th {\n",
       "        text-align: left;\n",
       "    }\n",
       "\n",
       "    .dataframe tbody tr th {\n",
       "        vertical-align: top;\n",
       "    }\n",
       "</style>\n",
       "<table border=\"1\" class=\"dataframe\">\n",
       "  <thead>\n",
       "    <tr style=\"text-align: right;\">\n",
       "      <th></th>\n",
       "      <th>Player</th>\n",
       "      <th>BPM_Rookie</th>\n",
       "    </tr>\n",
       "  </thead>\n",
       "  <tbody>\n",
       "    <tr>\n",
       "      <th>481</th>\n",
       "      <td>Demetrius Jackson</td>\n",
       "      <td>6.3</td>\n",
       "    </tr>\n",
       "    <tr>\n",
       "      <th>58</th>\n",
       "      <td>Chris Paul</td>\n",
       "      <td>6.1</td>\n",
       "    </tr>\n",
       "    <tr>\n",
       "      <th>104</th>\n",
       "      <td>James Augustine</td>\n",
       "      <td>5.0</td>\n",
       "    </tr>\n",
       "    <tr>\n",
       "      <th>170</th>\n",
       "      <td>Kawhi Leonard</td>\n",
       "      <td>4.3</td>\n",
       "    </tr>\n",
       "  </tbody>\n",
       "</table>\n",
       "</div>"
      ],
      "text/plain": [
       "                Player  BPM_Rookie\n",
       "481  Demetrius Jackson         6.3\n",
       "58          Chris Paul         6.1\n",
       "104    James Augustine         5.0\n",
       "170      Kawhi Leonard         4.3"
      ]
     },
     "execution_count": 109,
     "metadata": {},
     "output_type": "execute_result"
    }
   ],
   "source": [
    "result[result['BPM_Rookie'] > 4].sort_values(['BPM_Rookie'], ascending=False)[['Player','BPM_Rookie']]"
   ]
  },
  {
   "cell_type": "code",
   "execution_count": 110,
   "metadata": {},
   "outputs": [
    {
     "data": {
      "text/plain": [
       "(509, 74)"
      ]
     },
     "execution_count": 110,
     "metadata": {},
     "output_type": "execute_result"
    }
   ],
   "source": [
    "result.shape"
   ]
  },
  {
   "cell_type": "code",
   "execution_count": null,
   "metadata": {
    "collapsed": true
   },
   "outputs": [],
   "source": []
  }
 ],
 "metadata": {
  "kernelspec": {
   "display_name": "Python 3",
   "language": "python",
   "name": "python3"
  },
  "language_info": {
   "codemirror_mode": {
    "name": "ipython",
    "version": 3
   },
   "file_extension": ".py",
   "mimetype": "text/x-python",
   "name": "python",
   "nbconvert_exporter": "python",
   "pygments_lexer": "ipython3",
   "version": "3.6.1"
  }
 },
 "nbformat": 4,
 "nbformat_minor": 2
}
